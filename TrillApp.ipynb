{
  "nbformat": 4,
  "nbformat_minor": 0,
  "metadata": {
    "colab": {
      "name": "TrillApp.ipynb",
      "provenance": [],
      "collapsed_sections": [],
      "include_colab_link": true
    },
    "kernelspec": {
      "name": "python3",
      "display_name": "Python 3"
    }
  },
  "cells": [
    {
      "cell_type": "markdown",
      "metadata": {
        "id": "view-in-github",
        "colab_type": "text"
      },
      "source": [
        "<a href=\"https://colab.research.google.com/github/DarthGecko/SpaceAppsTrill/blob/master/TrillApp.ipynb\" target=\"_parent\"><img src=\"https://colab.research.google.com/assets/colab-badge.svg\" alt=\"Open In Colab\"/></a>"
      ]
    },
    {
      "cell_type": "code",
      "metadata": {
        "id": "4qrw9zGHBspt",
        "colab_type": "code",
        "colab": {}
      },
      "source": [
        "# Tasks!\n",
        "## Look at the Data\n",
        "## Graph some portion of it\n",
        "## Decide what portions we want to predict\n",
        "## Research what kinds prediction options we have.\n",
        "## Pick two and see which one seems to have the best results immediately.\n",
        "## Work on perfecting the solution\n",
        "src = 'https://data.nasa.gov/api/views/mc52-syum/rows.csv?accessType=DOWNLOAD'\n"
      ],
      "execution_count": 0,
      "outputs": []
    },
    {
      "cell_type": "code",
      "metadata": {
        "id": "cH4Fh1r7AxVZ",
        "colab_type": "code",
        "colab": {}
      },
      "source": [
        "# Space Apps Challenge\n",
        "# Lost Data Chasers\n",
        "import pandas\n",
        "\n",
        "# Read data into variable\n",
        "data = pandas.read_csv(src)\n",
        "\n",
        "for \n",
        "print(data.head(5))"
      ],
      "execution_count": 0,
      "outputs": []
    },
    {
      "cell_type": "code",
      "metadata": {
        "id": "RcfyKECvBtph",
        "colab_type": "code",
        "colab": {}
      },
      "source": [
        ""
      ],
      "execution_count": 0,
      "outputs": []
    }
  ]
}